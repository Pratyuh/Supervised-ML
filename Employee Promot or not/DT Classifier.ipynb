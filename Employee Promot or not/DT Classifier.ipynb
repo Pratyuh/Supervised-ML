{
 "cells": [
  {
   "cell_type": "code",
   "execution_count": 1,
   "metadata": {},
   "outputs": [],
   "source": [
    "import pandas as pd\n",
    "import numpy as np\n",
    "import matplotlib.pyplot as plt\n",
    "import seaborn as sns"
   ]
  },
  {
   "cell_type": "code",
   "execution_count": 2,
   "metadata": {},
   "outputs": [],
   "source": [
    "train_df = pd.read_csv('data/train_cleaned.csv')\n",
    "test_df = pd.read_csv('data/test_cleaned.csv')"
   ]
  },
  {
   "cell_type": "code",
   "execution_count": 4,
   "metadata": {},
   "outputs": [
    {
     "data": {
      "text/plain": [
       "((54808, 13), (23490, 12))"
      ]
     },
     "execution_count": 4,
     "metadata": {},
     "output_type": "execute_result"
    }
   ],
   "source": [
    "train_df.shape,test_df.shape"
   ]
  },
  {
   "cell_type": "code",
   "execution_count": 5,
   "metadata": {},
   "outputs": [
    {
     "name": "stdout",
     "output_type": "stream",
     "text": [
      "Shape of the x : (54808, 12)\n",
      "Shape of the y : (54808,)\n",
      "Shape of the x Test : (23490, 12)\n"
     ]
    }
   ],
   "source": [
    "# lets split the target data from the train data\n",
    "\n",
    "y = train_df['is_promoted']\n",
    "x = train_df.drop(['is_promoted'], axis = 1)\n",
    "x_test = test_df\n",
    "\n",
    "# lets print the shapes of these newly formed data sets\n",
    "print(\"Shape of the x :\", x.shape)\n",
    "print(\"Shape of the y :\", y.shape)\n",
    "print(\"Shape of the x Test :\", x_test.shape)"
   ]
  },
  {
   "cell_type": "code",
   "execution_count": 6,
   "metadata": {},
   "outputs": [
    {
     "name": "stdout",
     "output_type": "stream",
     "text": [
      "(100280, 12)\n",
      "(100280,)\n"
     ]
    }
   ],
   "source": [
    "# It is very important to resample the data, as the Target class is Highly imbalanced.\n",
    "# Here We are going to use Over Sampling Technique to resample the data.\n",
    "# lets import the SMOTE algorithm to do the same.\n",
    "\n",
    "from imblearn.over_sampling import SMOTE\n",
    "\n",
    "x_resample, y_resample  = SMOTE().fit_resample(x, y.values.ravel())\n",
    "\n",
    "# lets print the shape of x and y after resampling it\n",
    "print(x_resample.shape)\n",
    "print(y_resample.shape)\n"
   ]
  },
  {
   "cell_type": "code",
   "execution_count": 7,
   "metadata": {},
   "outputs": [
    {
     "name": "stdout",
     "output_type": "stream",
     "text": [
      "Before Resampling :\n",
      "0    50140\n",
      "1     4668\n",
      "Name: is_promoted, dtype: int64\n",
      "After Resampling :\n",
      "1    50140\n",
      "0    50140\n",
      "Name: 0, dtype: int64\n"
     ]
    }
   ],
   "source": [
    "# lets also check the value counts of our target variable\n",
    "\n",
    "print(\"Before Resampling :\")\n",
    "print(y.value_counts())\n",
    "\n",
    "print(\"After Resampling :\")\n",
    "y_resample = pd.DataFrame(y_resample)\n",
    "print(y_resample[0].value_counts())"
   ]
  },
  {
   "cell_type": "code",
   "execution_count": 8,
   "metadata": {},
   "outputs": [
    {
     "name": "stdout",
     "output_type": "stream",
     "text": [
      "Shape of the x Train : (43846, 12)\n",
      "Shape of the y Train : (43846,)\n",
      "Shape of the x test1 : (10962, 12)\n",
      "Shape of the y test1 : (10962,)\n",
      "Shape of the x Test : (23490, 12)\n"
     ]
    }
   ],
   "source": [
    "# lets create a validation set from the training data so that we can check whether the model that we have created is good enough\n",
    "# lets import the train_test_split library from sklearn to do that\n",
    "\n",
    "from sklearn.model_selection import train_test_split\n",
    "\n",
    "x_train, x_test1, y_train, y_test = train_test_split(x,y, test_size = 0.2, random_state = 41)\n",
    "\n",
    "# lets print the shapes again \n",
    "print(\"Shape of the x Train :\", x_train.shape)\n",
    "print(\"Shape of the y Train :\", y_train.shape)\n",
    "print(\"Shape of the x test1 :\", x_test1.shape)\n",
    "print(\"Shape of the y test1 :\", y_test.shape)\n",
    "print(\"Shape of the x Test :\", x_test.shape)"
   ]
  },
  {
   "cell_type": "code",
   "execution_count": 9,
   "metadata": {},
   "outputs": [],
   "source": [
    "# It is very import to scale all the features of the dataset into the same scale\n",
    "# Here, we are going to use the standardization method, which is very commonly used.\n",
    "\n",
    "# lets import the standard scaler library from sklearn to do that\n",
    "from sklearn.preprocessing import StandardScaler\n",
    "\n",
    "sc = StandardScaler()\n",
    "x_train = sc.fit_transform(x_train)\n",
    "x_test1 = sc.transform(x_test1)\n",
    "x_test = sc.transform(x_test)"
   ]
  },
  {
   "cell_type": "markdown",
   "metadata": {},
   "source": [
    "## Decision Tree"
   ]
  },
  {
   "cell_type": "code",
   "execution_count": 10,
   "metadata": {},
   "outputs": [],
   "source": [
    "from sklearn.metrics import confusion_matrix, classification_report\n",
    "import warnings\n",
    "warnings.filterwarnings('ignore')"
   ]
  },
  {
   "cell_type": "code",
   "execution_count": 11,
   "metadata": {},
   "outputs": [
    {
     "name": "stdout",
     "output_type": "stream",
     "text": [
      "Training Accuracy : 0.9934087488026274\n",
      "Testing Accuracy : 0.8950921364714468\n"
     ]
    },
    {
     "data": {
      "image/png": "[encoded data removed]",
      "text/plain": [
       "<Figure size 216x216 with 2 Axes>"
      ]
     },
     "metadata": {
      "needs_background": "light"
     },
     "output_type": "display_data"
    }
   ],
   "source": [
    "# Lets use Decision Trees to classify the data\n",
    "from sklearn.tree import DecisionTreeClassifier\n",
    "from sklearn.metrics import confusion_matrix, classification_report\n",
    "\n",
    "model = DecisionTreeClassifier()\n",
    "model.fit(x_train,y_train)\n",
    "\n",
    "\n",
    "y_pred = model.predict(x_test1)\n",
    "\n",
    "print(\"Training Accuracy :\", model.score(x_train, y_train))\n",
    "print(\"Testing Accuracy :\", model.score(x_test1, y_test))\n",
    "\n",
    "cm = confusion_matrix(y_test, y_pred)\n",
    "plt.rcParams['figure.figsize'] = (3, 3)\n",
    "sns.heatmap(cm, annot = True, cmap = 'Wistia', fmt = '.8g')\n",
    "plt.show()"
   ]
  },
  {
   "cell_type": "code",
   "execution_count": 12,
   "metadata": {},
   "outputs": [
    {
     "data": {
      "text/plain": [
       "array([0, 0, 0, ..., 0, 0, 1], dtype=int64)"
      ]
     },
     "execution_count": 12,
     "metadata": {},
     "output_type": "execute_result"
    }
   ],
   "source": [
    "decision_tree = model.predict(x_test)\n",
    "decision_tree"
   ]
  },
  {
   "cell_type": "code",
   "execution_count": 13,
   "metadata": {},
   "outputs": [],
   "source": [
    "prediction = model.predict(np.array([[6, #department code\n",
    "                                      2, #masters degree\n",
    "                                      1, #male\n",
    "                                      10, #1 training\n",
    "                                      35, #30 years old\n",
    "                                      5, #previous year rating\n",
    "                                      10, #length of service\n",
    "                                      8, #KPIs met >80%\n",
    "                                      10, #awards won\n",
    "                                      90, #avg training score\n",
    "                                      30, #sum of metric \n",
    "                                      100 #total score\n",
    "                                     ]]))\n"
   ]
  },
  {
   "cell_type": "code",
   "execution_count": 14,
   "metadata": {},
   "outputs": [
    {
     "name": "stdout",
     "output_type": "stream",
     "text": [
      "employee promoted\n"
     ]
    }
   ],
   "source": [
    "if prediction == 1:\n",
    "    print(\"employee promoted\")\n",
    "else:\n",
    "    print(\"woops! employee not promoted\")"
   ]
  },
  {
   "cell_type": "code",
   "execution_count": null,
   "metadata": {},
   "outputs": [],
   "source": []
  }
 ],
 "metadata": {
  "kernelspec": {
   "display_name": "Python 3",
   "language": "python",
   "name": "python3"
  },
  "language_info": {
   "codemirror_mode": {
    "name": "ipython",
    "version": 3
   },
   "file_extension": ".py",
   "mimetype": "text/x-python",
   "name": "python",
   "nbconvert_exporter": "python",
   "pygments_lexer": "ipython3",
   "version": "3.7.6"
  }
 },
 "nbformat": 4,
 "nbformat_minor": 4
}
