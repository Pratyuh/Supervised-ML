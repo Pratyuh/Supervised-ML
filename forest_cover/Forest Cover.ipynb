{
 "cells": [
  {
   "cell_type": "raw",
   "metadata": {},
   "source": [
    "The following data is available in both datasets:\n",
    "Elevation — Elevation in meters\n",
    "Aspect — Aspect in degrees azimuth\n",
    "Slope — Slope in degrees\n",
    "Horizontal_Distance_To_Hydrology — Horizontal Distance to nearest surface water features\n",
    "Vertical_Distance_To_Hydrology — Vertical Distance to nearest surface water features\n",
    "Horizontal_Distance_To_Roadways — Horizontal Distance to nearest roadway\n",
    "Hillshade_9am — Hillshade index at 9am, summer solstice\n",
    "Hillshade_Noon — Hillshade index at noon, summer solstice\n",
    "Hillshade_3pm — Hillshade index at 3pm, summer solstice\n",
    "Horizontal_Distance_To_Fire_Points — Horizontal Distance to nearest wildfire ignition points\n",
    "Wilderness_Area — Wilderness area designation\n",
    "Soil_Type — Soil Type designation\n",
    "Cover_Type— Forest Cover Type designation"
   ]
  },
  {
   "cell_type": "code",
   "execution_count": 1,
   "metadata": {},
   "outputs": [],
   "source": [
    "import pandas as pd\n",
    "import numpy as np\n",
    "import seaborn as sns\n",
    "import matplotlib.pyplot as plt\n",
    "\n",
    "import warnings\n",
    "warnings.simplefilter('ignore')"
   ]
  },
  {
   "cell_type": "code",
   "execution_count": 2,
   "metadata": {},
   "outputs": [],
   "source": [
    "trees = pd.read_csv(\"train.csv\")"
   ]
  },
  {
   "cell_type": "code",
   "execution_count": 3,
   "metadata": {},
   "outputs": [
    {
     "data": {
      "text/plain": [
       "(15120, 56)"
      ]
     },
     "execution_count": 3,
     "metadata": {},
     "output_type": "execute_result"
    }
   ],
   "source": [
    "trees.shape"
   ]
  },
  {
   "cell_type": "code",
   "execution_count": 4,
   "metadata": {},
   "outputs": [
    {
     "data": {
      "text/html": [
       "<div>\n",
       "<style scoped>\n",
       "    .dataframe tbody tr th:only-of-type {\n",
       "        vertical-align: middle;\n",
       "    }\n",
       "\n",
       "    .dataframe tbody tr th {\n",
       "        vertical-align: top;\n",
       "    }\n",
       "\n",
       "    .dataframe thead th {\n",
       "        text-align: right;\n",
       "    }\n",
       "</style>\n",
       "<table border=\"1\" class=\"dataframe\">\n",
       "  <thead>\n",
       "    <tr style=\"text-align: right;\">\n",
       "      <th></th>\n",
       "      <th>Id</th>\n",
       "      <th>Elevation</th>\n",
       "      <th>Aspect</th>\n",
       "      <th>Slope</th>\n",
       "      <th>Horizontal_Distance_To_Hydrology</th>\n",
       "      <th>Vertical_Distance_To_Hydrology</th>\n",
       "      <th>Horizontal_Distance_To_Roadways</th>\n",
       "      <th>Hillshade_9am</th>\n",
       "      <th>Hillshade_Noon</th>\n",
       "      <th>Hillshade_3pm</th>\n",
       "      <th>...</th>\n",
       "      <th>Soil_Type32</th>\n",
       "      <th>Soil_Type33</th>\n",
       "      <th>Soil_Type34</th>\n",
       "      <th>Soil_Type35</th>\n",
       "      <th>Soil_Type36</th>\n",
       "      <th>Soil_Type37</th>\n",
       "      <th>Soil_Type38</th>\n",
       "      <th>Soil_Type39</th>\n",
       "      <th>Soil_Type40</th>\n",
       "      <th>Cover_Type</th>\n",
       "    </tr>\n",
       "  </thead>\n",
       "  <tbody>\n",
       "    <tr>\n",
       "      <th>0</th>\n",
       "      <td>1</td>\n",
       "      <td>2596</td>\n",
       "      <td>51</td>\n",
       "      <td>3</td>\n",
       "      <td>258</td>\n",
       "      <td>0</td>\n",
       "      <td>510</td>\n",
       "      <td>221</td>\n",
       "      <td>232</td>\n",
       "      <td>148</td>\n",
       "      <td>...</td>\n",
       "      <td>0</td>\n",
       "      <td>0</td>\n",
       "      <td>0</td>\n",
       "      <td>0</td>\n",
       "      <td>0</td>\n",
       "      <td>0</td>\n",
       "      <td>0</td>\n",
       "      <td>0</td>\n",
       "      <td>0</td>\n",
       "      <td>5</td>\n",
       "    </tr>\n",
       "    <tr>\n",
       "      <th>1</th>\n",
       "      <td>2</td>\n",
       "      <td>2590</td>\n",
       "      <td>56</td>\n",
       "      <td>2</td>\n",
       "      <td>212</td>\n",
       "      <td>-6</td>\n",
       "      <td>390</td>\n",
       "      <td>220</td>\n",
       "      <td>235</td>\n",
       "      <td>151</td>\n",
       "      <td>...</td>\n",
       "      <td>0</td>\n",
       "      <td>0</td>\n",
       "      <td>0</td>\n",
       "      <td>0</td>\n",
       "      <td>0</td>\n",
       "      <td>0</td>\n",
       "      <td>0</td>\n",
       "      <td>0</td>\n",
       "      <td>0</td>\n",
       "      <td>5</td>\n",
       "    </tr>\n",
       "    <tr>\n",
       "      <th>2</th>\n",
       "      <td>3</td>\n",
       "      <td>2804</td>\n",
       "      <td>139</td>\n",
       "      <td>9</td>\n",
       "      <td>268</td>\n",
       "      <td>65</td>\n",
       "      <td>3180</td>\n",
       "      <td>234</td>\n",
       "      <td>238</td>\n",
       "      <td>135</td>\n",
       "      <td>...</td>\n",
       "      <td>0</td>\n",
       "      <td>0</td>\n",
       "      <td>0</td>\n",
       "      <td>0</td>\n",
       "      <td>0</td>\n",
       "      <td>0</td>\n",
       "      <td>0</td>\n",
       "      <td>0</td>\n",
       "      <td>0</td>\n",
       "      <td>2</td>\n",
       "    </tr>\n",
       "    <tr>\n",
       "      <th>3</th>\n",
       "      <td>4</td>\n",
       "      <td>2785</td>\n",
       "      <td>155</td>\n",
       "      <td>18</td>\n",
       "      <td>242</td>\n",
       "      <td>118</td>\n",
       "      <td>3090</td>\n",
       "      <td>238</td>\n",
       "      <td>238</td>\n",
       "      <td>122</td>\n",
       "      <td>...</td>\n",
       "      <td>0</td>\n",
       "      <td>0</td>\n",
       "      <td>0</td>\n",
       "      <td>0</td>\n",
       "      <td>0</td>\n",
       "      <td>0</td>\n",
       "      <td>0</td>\n",
       "      <td>0</td>\n",
       "      <td>0</td>\n",
       "      <td>2</td>\n",
       "    </tr>\n",
       "    <tr>\n",
       "      <th>4</th>\n",
       "      <td>5</td>\n",
       "      <td>2595</td>\n",
       "      <td>45</td>\n",
       "      <td>2</td>\n",
       "      <td>153</td>\n",
       "      <td>-1</td>\n",
       "      <td>391</td>\n",
       "      <td>220</td>\n",
       "      <td>234</td>\n",
       "      <td>150</td>\n",
       "      <td>...</td>\n",
       "      <td>0</td>\n",
       "      <td>0</td>\n",
       "      <td>0</td>\n",
       "      <td>0</td>\n",
       "      <td>0</td>\n",
       "      <td>0</td>\n",
       "      <td>0</td>\n",
       "      <td>0</td>\n",
       "      <td>0</td>\n",
       "      <td>5</td>\n",
       "    </tr>\n",
       "  </tbody>\n",
       "</table>\n",
       "<p>5 rows × 56 columns</p>\n",
       "</div>"
      ],
      "text/plain": [
       "   Id  Elevation  Aspect  Slope  Horizontal_Distance_To_Hydrology  \\\n",
       "0   1       2596      51      3                               258   \n",
       "1   2       2590      56      2                               212   \n",
       "2   3       2804     139      9                               268   \n",
       "3   4       2785     155     18                               242   \n",
       "4   5       2595      45      2                               153   \n",
       "\n",
       "   Vertical_Distance_To_Hydrology  Horizontal_Distance_To_Roadways  \\\n",
       "0                               0                              510   \n",
       "1                              -6                              390   \n",
       "2                              65                             3180   \n",
       "3                             118                             3090   \n",
       "4                              -1                              391   \n",
       "\n",
       "   Hillshade_9am  Hillshade_Noon  Hillshade_3pm  ...  Soil_Type32  \\\n",
       "0            221             232            148  ...            0   \n",
       "1            220             235            151  ...            0   \n",
       "2            234             238            135  ...            0   \n",
       "3            238             238            122  ...            0   \n",
       "4            220             234            150  ...            0   \n",
       "\n",
       "   Soil_Type33  Soil_Type34  Soil_Type35  Soil_Type36  Soil_Type37  \\\n",
       "0            0            0            0            0            0   \n",
       "1            0            0            0            0            0   \n",
       "2            0            0            0            0            0   \n",
       "3            0            0            0            0            0   \n",
       "4            0            0            0            0            0   \n",
       "\n",
       "   Soil_Type38  Soil_Type39  Soil_Type40  Cover_Type  \n",
       "0            0            0            0           5  \n",
       "1            0            0            0           5  \n",
       "2            0            0            0           2  \n",
       "3            0            0            0           2  \n",
       "4            0            0            0           5  \n",
       "\n",
       "[5 rows x 56 columns]"
      ]
     },
     "execution_count": 4,
     "metadata": {},
     "output_type": "execute_result"
    }
   ],
   "source": [
    "trees.head()"
   ]
  },
  {
   "cell_type": "code",
   "execution_count": 5,
   "metadata": {
    "scrolled": true
   },
   "outputs": [
    {
     "name": "stdout",
     "output_type": "stream",
     "text": [
      "<class 'pandas.core.frame.DataFrame'>\n",
      "RangeIndex: 15120 entries, 0 to 15119\n",
      "Data columns (total 56 columns):\n",
      "Id                                    15120 non-null int64\n",
      "Elevation                             15120 non-null int64\n",
      "Aspect                                15120 non-null int64\n",
      "Slope                                 15120 non-null int64\n",
      "Horizontal_Distance_To_Hydrology      15120 non-null int64\n",
      "Vertical_Distance_To_Hydrology        15120 non-null int64\n",
      "Horizontal_Distance_To_Roadways       15120 non-null int64\n",
      "Hillshade_9am                         15120 non-null int64\n",
      "Hillshade_Noon                        15120 non-null int64\n",
      "Hillshade_3pm                         15120 non-null int64\n",
      "Horizontal_Distance_To_Fire_Points    15120 non-null int64\n",
      "Wilderness_Area1                      15120 non-null int64\n",
      "Wilderness_Area2                      15120 non-null int64\n",
      "Wilderness_Area3                      15120 non-null int64\n",
      "Wilderness_Area4                      15120 non-null int64\n",
      "Soil_Type1                            15120 non-null int64\n",
      "Soil_Type2                            15120 non-null int64\n",
      "Soil_Type3                            15120 non-null int64\n",
      "Soil_Type4                            15120 non-null int64\n",
      "Soil_Type5                            15120 non-null int64\n",
      "Soil_Type6                            15120 non-null int64\n",
      "Soil_Type7                            15120 non-null int64\n",
      "Soil_Type8                            15120 non-null int64\n",
      "Soil_Type9                            15120 non-null int64\n",
      "Soil_Type10                           15120 non-null int64\n",
      "Soil_Type11                           15120 non-null int64\n",
      "Soil_Type12                           15120 non-null int64\n",
      "Soil_Type13                           15120 non-null int64\n",
      "Soil_Type14                           15120 non-null int64\n",
      "Soil_Type15                           15120 non-null int64\n",
      "Soil_Type16                           15120 non-null int64\n",
      "Soil_Type17                           15120 non-null int64\n",
      "Soil_Type18                           15120 non-null int64\n",
      "Soil_Type19                           15120 non-null int64\n",
      "Soil_Type20                           15120 non-null int64\n",
      "Soil_Type21                           15120 non-null int64\n",
      "Soil_Type22                           15120 non-null int64\n",
      "Soil_Type23                           15120 non-null int64\n",
      "Soil_Type24                           15120 non-null int64\n",
      "Soil_Type25                           15120 non-null int64\n",
      "Soil_Type26                           15120 non-null int64\n",
      "Soil_Type27                           15120 non-null int64\n",
      "Soil_Type28                           15120 non-null int64\n",
      "Soil_Type29                           15120 non-null int64\n",
      "Soil_Type30                           15120 non-null int64\n",
      "Soil_Type31                           15120 non-null int64\n",
      "Soil_Type32                           15120 non-null int64\n",
      "Soil_Type33                           15120 non-null int64\n",
      "Soil_Type34                           15120 non-null int64\n",
      "Soil_Type35                           15120 non-null int64\n",
      "Soil_Type36                           15120 non-null int64\n",
      "Soil_Type37                           15120 non-null int64\n",
      "Soil_Type38                           15120 non-null int64\n",
      "Soil_Type39                           15120 non-null int64\n",
      "Soil_Type40                           15120 non-null int64\n",
      "Cover_Type                            15120 non-null int64\n",
      "dtypes: int64(56)\n",
      "memory usage: 6.5 MB\n"
     ]
    }
   ],
   "source": [
    "trees.info()"
   ]
  },
  {
   "cell_type": "markdown",
   "metadata": {},
   "source": [
    "### Check for Anomalies & Outliers"
   ]
  },
  {
   "cell_type": "code",
   "execution_count": 6,
   "metadata": {},
   "outputs": [],
   "source": [
    "def outlier_function(df, col_name):\n",
    "    ''' this function detects first and third quartile and interquartile range for a given column of a dataframe\n",
    "    then calculates upper and lower limits to determine outliers conservatively\n",
    "    returns the number of lower and uper limit and number of outliers respectively\n",
    "    '''\n",
    "    first_quartile = np.percentile(np.array(df[col_name].tolist()), 25)\n",
    "    third_quartile = np.percentile(np.array(df[col_name].tolist()), 75)\n",
    "    IQR = third_quartile - first_quartile\n",
    "                      \n",
    "    upper_limit = third_quartile+(3*IQR)\n",
    "    lower_limit = first_quartile-(3*IQR)\n",
    "    outlier_count = 0\n",
    "                      \n",
    "    for value in df[col_name].tolist():\n",
    "        if (value < lower_limit) | (value > upper_limit):\n",
    "            outlier_count +=1\n",
    "    return lower_limit, upper_limit, outlier_count"
   ]
  },
  {
   "cell_type": "code",
   "execution_count": 7,
   "metadata": {
    "scrolled": true
   },
   "outputs": [
    {
     "name": "stdout",
     "output_type": "stream",
     "text": [
      "There are 53 outliers in Horizontal_Distance_To_Hydrology\n",
      "There are 49 outliers in Vertical_Distance_To_Hydrology\n",
      "There are 3 outliers in Horizontal_Distance_To_Roadways\n",
      "There are 7 outliers in Hillshade_9am\n",
      "There are 20 outliers in Hillshade_Noon\n",
      "There are 132 outliers in Horizontal_Distance_To_Fire_Points\n",
      "There are 3597 outliers in Wilderness_Area1\n",
      "There are 499 outliers in Wilderness_Area2\n",
      "There are 355 outliers in Soil_Type1\n",
      "There are 623 outliers in Soil_Type2\n",
      "There are 962 outliers in Soil_Type3\n",
      "There are 843 outliers in Soil_Type4\n",
      "There are 165 outliers in Soil_Type5\n",
      "There are 650 outliers in Soil_Type6\n",
      "There are 1 outliers in Soil_Type8\n",
      "There are 10 outliers in Soil_Type9\n",
      "There are 2142 outliers in Soil_Type10\n",
      "There are 406 outliers in Soil_Type11\n",
      "There are 227 outliers in Soil_Type12\n",
      "There are 476 outliers in Soil_Type13\n",
      "There are 169 outliers in Soil_Type14\n",
      "There are 114 outliers in Soil_Type16\n",
      "There are 612 outliers in Soil_Type17\n",
      "There are 60 outliers in Soil_Type18\n",
      "There are 46 outliers in Soil_Type19\n",
      "There are 139 outliers in Soil_Type20\n",
      "There are 16 outliers in Soil_Type21\n",
      "There are 345 outliers in Soil_Type22\n",
      "There are 757 outliers in Soil_Type23\n",
      "There are 257 outliers in Soil_Type24\n",
      "There are 1 outliers in Soil_Type25\n",
      "There are 54 outliers in Soil_Type26\n",
      "There are 15 outliers in Soil_Type27\n",
      "There are 9 outliers in Soil_Type28\n",
      "There are 1291 outliers in Soil_Type29\n",
      "There are 725 outliers in Soil_Type30\n",
      "There are 332 outliers in Soil_Type31\n",
      "There are 690 outliers in Soil_Type32\n",
      "There are 616 outliers in Soil_Type33\n",
      "There are 22 outliers in Soil_Type34\n",
      "There are 102 outliers in Soil_Type35\n",
      "There are 10 outliers in Soil_Type36\n",
      "There are 34 outliers in Soil_Type37\n",
      "There are 728 outliers in Soil_Type38\n",
      "There are 657 outliers in Soil_Type39\n",
      "There are 459 outliers in Soil_Type40\n"
     ]
    }
   ],
   "source": [
    "# loop through all columns to see if there are any outliers\n",
    "for column in trees.columns:\n",
    "    if outlier_function(trees, column)[2] > 0:\n",
    "        print(\"There are {} outliers in {}\".format(outlier_function(trees, column)[2], column))"
   ]
  },
  {
   "cell_type": "code",
   "execution_count": 8,
   "metadata": {},
   "outputs": [
    {
     "data": {
      "text/plain": [
       "(14988, 56)"
      ]
     },
     "execution_count": 8,
     "metadata": {},
     "output_type": "execute_result"
    }
   ],
   "source": [
    "trees = trees[(trees['Horizontal_Distance_To_Fire_Points'] > outlier_function(trees, 'Horizontal_Distance_To_Fire_Points')[0]) &\n",
    "              (trees['Horizontal_Distance_To_Fire_Points'] < outlier_function(trees, 'Horizontal_Distance_To_Fire_Points')[1])]\n",
    "trees.shape"
   ]
  },
  {
   "cell_type": "markdown",
   "metadata": {},
   "source": [
    "### 2. Exploratory Data Analysis"
   ]
  },
  {
   "cell_type": "code",
   "execution_count": 9,
   "metadata": {},
   "outputs": [
    {
     "data": {
      "text/plain": [
       "array([1, 0], dtype=int64)"
      ]
     },
     "execution_count": 9,
     "metadata": {},
     "output_type": "execute_result"
    }
   ],
   "source": [
    "# list of columns of wilderness areas and soil types\n",
    "is_binary_columns = [column for column in trees.columns if (\"Wilderness\" in column) | (\"Soil\" in column)]\n",
    "pd.unique(trees[is_binary_columns].values.ravel())"
   ]
  },
  {
   "cell_type": "code",
   "execution_count": 10,
   "metadata": {},
   "outputs": [
    {
     "name": "stdout",
     "output_type": "stream",
     "text": [
      "1    14988\n",
      "Name: w_sum, dtype: int64\n"
     ]
    }
   ],
   "source": [
    "# sum of all widerness area columns\n",
    "trees[\"w_sum\"] = trees[\"Wilderness_Area1\"] + trees[\"Wilderness_Area2\"] + trees[\"Wilderness_Area3\"] + trees[\"Wilderness_Area4\"]\n",
    "print(trees.w_sum.value_counts())"
   ]
  },
  {
   "cell_type": "code",
   "execution_count": 11,
   "metadata": {},
   "outputs": [
    {
     "name": "stdout",
     "output_type": "stream",
     "text": [
      "1    14988\n",
      "Name: soil_sum, dtype: int64\n"
     ]
    }
   ],
   "source": [
    "# create a list of soil_type columns\n",
    "soil_columns = [c for c in trees.columns if \"Soil\" in c]\n",
    "trees[\"soil_sum\"] = 0\n",
    "\n",
    "# sum of all soil type columns\n",
    "for c in soil_columns:\n",
    "    trees[\"soil_sum\"] += trees[c]\n",
    "\n",
    "print(trees.soil_sum.value_counts())"
   ]
  },
  {
   "cell_type": "code",
   "execution_count": 12,
   "metadata": {},
   "outputs": [
    {
     "data": {
      "text/plain": [
       "7    2160\n",
       "6    2160\n",
       "4    2160\n",
       "3    2160\n",
       "5    2135\n",
       "1    2119\n",
       "2    2094\n",
       "Name: Cover_Type, dtype: int64"
      ]
     },
     "execution_count": 12,
     "metadata": {},
     "output_type": "execute_result"
    }
   ],
   "source": [
    "trees.Cover_Type.value_counts()"
   ]
  },
  {
   "cell_type": "code",
   "execution_count": 13,
   "metadata": {},
   "outputs": [
    {
     "data": {
      "image/png": "[encoded data removed]",
      "text/plain": [
       "<Figure size 432x288 with 1 Axes>"
      ]
     },
     "metadata": {
      "needs_background": "light"
     },
     "output_type": "display_data"
    }
   ],
   "source": [
    "sns.countplot(trees.Cover_Type)\n",
    "plt.show()"
   ]
  },
  {
   "cell_type": "code",
   "execution_count": 14,
   "metadata": {},
   "outputs": [
    {
     "data": {
      "text/plain": [
       "Text(0.5, 1.0, 'Density of Cover Types Among Different Wilderness Areas')"
      ]
     },
     "execution_count": 14,
     "metadata": {},
     "output_type": "execute_result"
    },
    {
     "data": {
      "image/png": "[encoded data removed]",
      "text/plain": [
       "<Figure size 432x288 with 1 Axes>"
      ]
     },
     "metadata": {
      "needs_background": "light"
     },
     "output_type": "display_data"
    }
   ],
   "source": [
    "\n",
    "trees['Wilderness_Area_Type'] = (trees.iloc[:, 11:15] == 1).idxmax(1)\n",
    "\n",
    "#list of wilderness areas\n",
    "wilderness_areas = sorted(trees['Wilderness_Area_Type'].value_counts().index.tolist())\n",
    "\n",
    "# distribution of the cover type in different wilderness areas\n",
    "# figsize(14,10)\n",
    "\n",
    "# plot cover_type distribution for each wilderness area\n",
    "for area in wilderness_areas:\n",
    "    subset = trees[trees['Wilderness_Area_Type'] == area]\n",
    "    sns.kdeplot(subset[\"Cover_Type\"], label=area, linewidth=2)\n",
    "\n",
    "# set title, legends and labels\n",
    "plt.ylabel(\"Density\")\n",
    "plt.xlabel(\"Cover_Type\")\n",
    "plt.title(\"Density of Cover Types Among Different Wilderness Areas\", size=14)"
   ]
  },
  {
   "cell_type": "markdown",
   "metadata": {},
   "source": [
    "### Reverse One Hot Encoding"
   ]
  },
  {
   "cell_type": "code",
   "execution_count": 15,
   "metadata": {},
   "outputs": [
    {
     "data": {
      "text/plain": [
       "Index(['Id', 'Elevation', 'Aspect', 'Slope',\n",
       "       'Horizontal_Distance_To_Hydrology', 'Vertical_Distance_To_Hydrology',\n",
       "       'Horizontal_Distance_To_Roadways', 'Hillshade_9am', 'Hillshade_Noon',\n",
       "       'Hillshade_3pm', 'Horizontal_Distance_To_Fire_Points',\n",
       "       'Wilderness_Area1', 'Wilderness_Area2', 'Wilderness_Area3',\n",
       "       'Wilderness_Area4', 'Soil_Type1', 'Soil_Type2', 'Soil_Type3',\n",
       "       'Soil_Type4', 'Soil_Type5', 'Soil_Type6', 'Soil_Type7', 'Soil_Type8',\n",
       "       'Soil_Type9', 'Soil_Type10', 'Soil_Type11', 'Soil_Type12',\n",
       "       'Soil_Type13', 'Soil_Type14', 'Soil_Type15', 'Soil_Type16',\n",
       "       'Soil_Type17', 'Soil_Type18', 'Soil_Type19', 'Soil_Type20',\n",
       "       'Soil_Type21', 'Soil_Type22', 'Soil_Type23', 'Soil_Type24',\n",
       "       'Soil_Type25', 'Soil_Type26', 'Soil_Type27', 'Soil_Type28',\n",
       "       'Soil_Type29', 'Soil_Type30', 'Soil_Type31', 'Soil_Type32',\n",
       "       'Soil_Type33', 'Soil_Type34', 'Soil_Type35', 'Soil_Type36',\n",
       "       'Soil_Type37', 'Soil_Type38', 'Soil_Type39', 'Soil_Type40',\n",
       "       'Cover_Type', 'w_sum', 'soil_sum', 'Wilderness_Area_Type'],\n",
       "      dtype='object')"
      ]
     },
     "execution_count": 15,
     "metadata": {},
     "output_type": "execute_result"
    }
   ],
   "source": [
    "trees.columns"
   ]
  },
  {
   "cell_type": "code",
   "execution_count": 16,
   "metadata": {},
   "outputs": [],
   "source": [
    "def split_numbers_chars(row):\n",
    "    '''This function fetches the numerical characters at the end of a string\n",
    "    and returns alphabetical character and numerical chaarcters respectively'''\n",
    "    head = row.rstrip('0123456789')\n",
    "    tail = row[len(head):]\n",
    "    return head, tail\n",
    "\n",
    "def reverse_one_hot_encode(dataframe, start_loc, end_loc, numeric_column_name):\n",
    "    ''' this function takes the start and end location of the one-hot-encoded column set and numeric column name to be created as arguments\n",
    "    1) transforms one-hot-encoded columns into one column consisting of column names with string data type\n",
    "    2) splits string column into the alphabetical and numerical characters\n",
    "    3) fetches numerical character and creates numeric column in the given dataframe\n",
    "    '''\n",
    "    dataframe['String_Column'] = (dataframe.iloc[:, start_loc:end_loc] == 1).idxmax(1)\n",
    "    dataframe['Tuple_Column'] = dataframe['String_Column'].apply(split_numbers_chars)\n",
    "    dataframe[numeric_column_name] = dataframe['Tuple_Column'].apply(lambda x: x[1]).astype('int64')\n",
    "    dataframe.drop(columns=['String_Column','Tuple_Column'], inplace=True)"
   ]
  },
  {
   "cell_type": "code",
   "execution_count": 17,
   "metadata": {},
   "outputs": [],
   "source": [
    "# reverse_one_hot_encode(trees, 12, 15, \"Wilderness_Area\")"
   ]
  },
  {
   "cell_type": "code",
   "execution_count": 18,
   "metadata": {},
   "outputs": [],
   "source": [
    "reverse_one_hot_encode(trees, 16, 56, \"Soil_Type\")"
   ]
  },
  {
   "cell_type": "code",
   "execution_count": 19,
   "metadata": {},
   "outputs": [],
   "source": [
    "# store continious variables in a list\n",
    "continuous_variables = trees.columns[1:11].tolist()"
   ]
  },
  {
   "cell_type": "code",
   "execution_count": 20,
   "metadata": {},
   "outputs": [],
   "source": [
    "# make a list of numeric features and create a dataframe with them\n",
    "all_features_w_label = continuous_variables + wilderness_areas + [\"Soil_Type\"] + [\"Cover_Type\"]\n",
    "trees_cleaned = trees[all_features_w_label]"
   ]
  },
  {
   "cell_type": "code",
   "execution_count": 21,
   "metadata": {},
   "outputs": [
    {
     "data": {
      "text/html": [
       "<div>\n",
       "<style scoped>\n",
       "    .dataframe tbody tr th:only-of-type {\n",
       "        vertical-align: middle;\n",
       "    }\n",
       "\n",
       "    .dataframe tbody tr th {\n",
       "        vertical-align: top;\n",
       "    }\n",
       "\n",
       "    .dataframe thead th {\n",
       "        text-align: right;\n",
       "    }\n",
       "</style>\n",
       "<table border=\"1\" class=\"dataframe\">\n",
       "  <thead>\n",
       "    <tr style=\"text-align: right;\">\n",
       "      <th></th>\n",
       "      <th>Elevation</th>\n",
       "      <th>Aspect</th>\n",
       "      <th>Slope</th>\n",
       "      <th>Horizontal_Distance_To_Hydrology</th>\n",
       "      <th>Vertical_Distance_To_Hydrology</th>\n",
       "      <th>Horizontal_Distance_To_Roadways</th>\n",
       "      <th>Hillshade_9am</th>\n",
       "      <th>Hillshade_Noon</th>\n",
       "      <th>Hillshade_3pm</th>\n",
       "      <th>Horizontal_Distance_To_Fire_Points</th>\n",
       "      <th>Wilderness_Area1</th>\n",
       "      <th>Wilderness_Area2</th>\n",
       "      <th>Wilderness_Area3</th>\n",
       "      <th>Wilderness_Area4</th>\n",
       "      <th>Soil_Type</th>\n",
       "      <th>Cover_Type</th>\n",
       "    </tr>\n",
       "  </thead>\n",
       "  <tbody>\n",
       "    <tr>\n",
       "      <th>11</th>\n",
       "      <td>2886</td>\n",
       "      <td>151</td>\n",
       "      <td>11</td>\n",
       "      <td>371</td>\n",
       "      <td>26</td>\n",
       "      <td>5253</td>\n",
       "      <td>234</td>\n",
       "      <td>240</td>\n",
       "      <td>136</td>\n",
       "      <td>4051</td>\n",
       "      <td>1</td>\n",
       "      <td>0</td>\n",
       "      <td>0</td>\n",
       "      <td>0</td>\n",
       "      <td>30</td>\n",
       "      <td>2</td>\n",
       "    </tr>\n",
       "    <tr>\n",
       "      <th>14</th>\n",
       "      <td>2503</td>\n",
       "      <td>157</td>\n",
       "      <td>4</td>\n",
       "      <td>67</td>\n",
       "      <td>4</td>\n",
       "      <td>674</td>\n",
       "      <td>224</td>\n",
       "      <td>240</td>\n",
       "      <td>151</td>\n",
       "      <td>5600</td>\n",
       "      <td>1</td>\n",
       "      <td>0</td>\n",
       "      <td>0</td>\n",
       "      <td>0</td>\n",
       "      <td>18</td>\n",
       "      <td>5</td>\n",
       "    </tr>\n",
       "    <tr>\n",
       "      <th>15</th>\n",
       "      <td>2495</td>\n",
       "      <td>51</td>\n",
       "      <td>7</td>\n",
       "      <td>42</td>\n",
       "      <td>2</td>\n",
       "      <td>752</td>\n",
       "      <td>224</td>\n",
       "      <td>225</td>\n",
       "      <td>137</td>\n",
       "      <td>5576</td>\n",
       "      <td>1</td>\n",
       "      <td>0</td>\n",
       "      <td>0</td>\n",
       "      <td>0</td>\n",
       "      <td>16</td>\n",
       "      <td>5</td>\n",
       "    </tr>\n",
       "    <tr>\n",
       "      <th>17</th>\n",
       "      <td>2517</td>\n",
       "      <td>72</td>\n",
       "      <td>7</td>\n",
       "      <td>85</td>\n",
       "      <td>6</td>\n",
       "      <td>595</td>\n",
       "      <td>228</td>\n",
       "      <td>227</td>\n",
       "      <td>133</td>\n",
       "      <td>5607</td>\n",
       "      <td>1</td>\n",
       "      <td>0</td>\n",
       "      <td>0</td>\n",
       "      <td>0</td>\n",
       "      <td>18</td>\n",
       "      <td>5</td>\n",
       "    </tr>\n",
       "    <tr>\n",
       "      <th>18</th>\n",
       "      <td>2504</td>\n",
       "      <td>0</td>\n",
       "      <td>4</td>\n",
       "      <td>95</td>\n",
       "      <td>5</td>\n",
       "      <td>691</td>\n",
       "      <td>214</td>\n",
       "      <td>232</td>\n",
       "      <td>156</td>\n",
       "      <td>5572</td>\n",
       "      <td>1</td>\n",
       "      <td>0</td>\n",
       "      <td>0</td>\n",
       "      <td>0</td>\n",
       "      <td>18</td>\n",
       "      <td>5</td>\n",
       "    </tr>\n",
       "  </tbody>\n",
       "</table>\n",
       "</div>"
      ],
      "text/plain": [
       "    Elevation  Aspect  Slope  Horizontal_Distance_To_Hydrology  \\\n",
       "11       2886     151     11                               371   \n",
       "14       2503     157      4                                67   \n",
       "15       2495      51      7                                42   \n",
       "17       2517      72      7                                85   \n",
       "18       2504       0      4                                95   \n",
       "\n",
       "    Vertical_Distance_To_Hydrology  Horizontal_Distance_To_Roadways  \\\n",
       "11                              26                             5253   \n",
       "14                               4                              674   \n",
       "15                               2                              752   \n",
       "17                               6                              595   \n",
       "18                               5                              691   \n",
       "\n",
       "    Hillshade_9am  Hillshade_Noon  Hillshade_3pm  \\\n",
       "11            234             240            136   \n",
       "14            224             240            151   \n",
       "15            224             225            137   \n",
       "17            228             227            133   \n",
       "18            214             232            156   \n",
       "\n",
       "    Horizontal_Distance_To_Fire_Points  Wilderness_Area1  Wilderness_Area2  \\\n",
       "11                                4051                 1                 0   \n",
       "14                                5600                 1                 0   \n",
       "15                                5576                 1                 0   \n",
       "17                                5607                 1                 0   \n",
       "18                                5572                 1                 0   \n",
       "\n",
       "    Wilderness_Area3  Wilderness_Area4  Soil_Type  Cover_Type  \n",
       "11                 0                 0         30           2  \n",
       "14                 0                 0         18           5  \n",
       "15                 0                 0         16           5  \n",
       "17                 0                 0         18           5  \n",
       "18                 0                 0         18           5  "
      ]
     },
     "execution_count": 21,
     "metadata": {},
     "output_type": "execute_result"
    }
   ],
   "source": [
    "trees_cleaned.head()"
   ]
  },
  {
   "cell_type": "code",
   "execution_count": 22,
   "metadata": {
    "scrolled": true
   },
   "outputs": [
    {
     "data": {
      "text/plain": [
       "<AxesSubplot:>"
      ]
     },
     "execution_count": 22,
     "metadata": {},
     "output_type": "execute_result"
    },
    {
     "data": {
      "image/png": "[encoded data removed]",
      "text/plain": [
       "<Figure size 1080x864 with 2 Axes>"
      ]
     },
     "metadata": {
      "needs_background": "light"
     },
     "output_type": "display_data"
    }
   ],
   "source": [
    "plt.figure(figsize=(15,12))\n",
    "sns.heatmap(trees_cleaned.corr(), annot=True)"
   ]
  },
  {
   "cell_type": "code",
   "execution_count": 23,
   "metadata": {},
   "outputs": [
    {
     "name": "stdout",
     "output_type": "stream",
     "text": [
      "Cover_Type                            1.000000\n",
      "Wilderness_Area1                      0.220713\n",
      "Wilderness_Area3                      0.116628\n",
      "Hillshade_Noon                        0.095848\n",
      "Horizontal_Distance_To_Roadways       0.094212\n",
      "Slope                                 0.081715\n",
      "Soil_Type                             0.078400\n",
      "Vertical_Distance_To_Hydrology        0.074566\n",
      "Wilderness_Area4                      0.071171\n",
      "Horizontal_Distance_To_Fire_Points    0.062142\n",
      "Hillshade_3pm                         0.051264\n",
      "Elevation                             0.019360\n",
      "Wilderness_Area2                      0.013653\n",
      "Hillshade_9am                         0.009710\n",
      "Aspect                                0.008252\n",
      "Horizontal_Distance_To_Hydrology      0.008078\n",
      "Name: Cover_Type, dtype: float64\n"
     ]
    }
   ],
   "source": [
    "corr_matrix = abs(trees_cleaned.corr())\n",
    "print(corr_matrix[\"Cover_Type\"].sort_values(ascending=False))"
   ]
  },
  {
   "cell_type": "markdown",
   "metadata": {},
   "source": [
    "## Split The Data For Model"
   ]
  },
  {
   "cell_type": "code",
   "execution_count": 24,
   "metadata": {},
   "outputs": [],
   "source": [
    "X = trees_cleaned.drop(\"Cover_Type\",axis=1)\n",
    "y = trees_cleaned[\"Cover_Type\"].as_matrix()"
   ]
  },
  {
   "cell_type": "code",
   "execution_count": 25,
   "metadata": {},
   "outputs": [],
   "source": [
    "from sklearn.model_selection import train_test_split\n",
    "X_train, X_valid, y_train, y_valid = train_test_split(X,y, test_size=0.2, random_state=1)"
   ]
  },
  {
   "cell_type": "code",
   "execution_count": 26,
   "metadata": {},
   "outputs": [
    {
     "name": "stdout",
     "output_type": "stream",
     "text": [
      "Training Data Shape: (11990, 15)\n",
      "Validation Data Shape: (2998, 15)\n",
      "Training Label Shape: (11990,)\n",
      "Validation Label Shape: (2998,)\n"
     ]
    }
   ],
   "source": [
    "print('Training Data Shape:', X_train.shape)\n",
    "print('Validation Data Shape:', X_valid.shape)\n",
    "print('Training Label Shape:', y_train.shape)\n",
    "print('Validation Label Shape:', y_valid.shape)"
   ]
  },
  {
   "cell_type": "code",
   "execution_count": 27,
   "metadata": {},
   "outputs": [],
   "source": [
    "from sklearn.preprocessing import StandardScaler\n",
    "# create scaler\n",
    "scaler = StandardScaler()\n",
    "\n",
    "# apply normalization to training set and transform training set\n",
    "X_train_scaled = scaler.fit_transform(X_train, y_train)\n",
    "\n",
    "# transform validation set\n",
    "X_valid_scaled = scaler.transform(X_valid)"
   ]
  },
  {
   "cell_type": "code",
   "execution_count": 28,
   "metadata": {},
   "outputs": [],
   "source": [
    "from sklearn.metrics import accuracy_score, confusion_matrix"
   ]
  },
  {
   "cell_type": "code",
   "execution_count": 29,
   "metadata": {},
   "outputs": [],
   "source": [
    "# function to train a given model, generate predictions, and return accuracy score\n",
    "def fit_evaluate_model(model, X_train, y_train, X_valid, Y_valid):\n",
    "    model.fit(X_train, y_train)\n",
    "    y_predicted = model.predict(X_valid)\n",
    "    return accuracy_score(y_valid, y_predicted)"
   ]
  },
  {
   "cell_type": "code",
   "execution_count": 30,
   "metadata": {},
   "outputs": [
    {
     "name": "stdout",
     "output_type": "stream",
     "text": [
      "Number of correct predictions made out of all predictions are: 0.8495663775850567\n"
     ]
    }
   ],
   "source": [
    "# create model apply fit_evaluate_model\n",
    "from lightgbm import LGBMClassifier\n",
    "lgbm_classifier = LGBMClassifier()\n",
    "lgbm_accuracy = fit_evaluate_model(lgbm_classifier, X_train, y_train, X_valid, y_valid)\n",
    "print(\"Number of correct predictions made out of all predictions are:\", lgbm_accuracy)"
   ]
  },
  {
   "cell_type": "code",
   "execution_count": 31,
   "metadata": {},
   "outputs": [
    {
     "data": {
      "text/plain": [
       "array([2, 4, 1, ..., 3, 2, 3], dtype=int64)"
      ]
     },
     "execution_count": 31,
     "metadata": {},
     "output_type": "execute_result"
    }
   ],
   "source": [
    "y_train"
   ]
  },
  {
   "cell_type": "code",
   "execution_count": 32,
   "metadata": {},
   "outputs": [
    {
     "data": {
      "text/html": [
       "<div>\n",
       "<style scoped>\n",
       "    .dataframe tbody tr th:only-of-type {\n",
       "        vertical-align: middle;\n",
       "    }\n",
       "\n",
       "    .dataframe tbody tr th {\n",
       "        vertical-align: top;\n",
       "    }\n",
       "\n",
       "    .dataframe thead th {\n",
       "        text-align: right;\n",
       "    }\n",
       "</style>\n",
       "<table border=\"1\" class=\"dataframe\">\n",
       "  <thead>\n",
       "    <tr style=\"text-align: right;\">\n",
       "      <th></th>\n",
       "      <th>Elevation</th>\n",
       "      <th>Aspect</th>\n",
       "      <th>Slope</th>\n",
       "      <th>Horizontal_Distance_To_Hydrology</th>\n",
       "      <th>Vertical_Distance_To_Hydrology</th>\n",
       "      <th>Horizontal_Distance_To_Roadways</th>\n",
       "      <th>Hillshade_9am</th>\n",
       "      <th>Hillshade_Noon</th>\n",
       "      <th>Hillshade_3pm</th>\n",
       "      <th>Horizontal_Distance_To_Fire_Points</th>\n",
       "      <th>Wilderness_Area1</th>\n",
       "      <th>Wilderness_Area2</th>\n",
       "      <th>Wilderness_Area3</th>\n",
       "      <th>Wilderness_Area4</th>\n",
       "      <th>Soil_Type</th>\n",
       "    </tr>\n",
       "  </thead>\n",
       "  <tbody>\n",
       "    <tr>\n",
       "      <th>1053</th>\n",
       "      <td>2861</td>\n",
       "      <td>159</td>\n",
       "      <td>7</td>\n",
       "      <td>124</td>\n",
       "      <td>11</td>\n",
       "      <td>2967</td>\n",
       "      <td>228</td>\n",
       "      <td>242</td>\n",
       "      <td>146</td>\n",
       "      <td>2588</td>\n",
       "      <td>1</td>\n",
       "      <td>0</td>\n",
       "      <td>0</td>\n",
       "      <td>0</td>\n",
       "      <td>29</td>\n",
       "    </tr>\n",
       "    <tr>\n",
       "      <th>12702</th>\n",
       "      <td>2133</td>\n",
       "      <td>339</td>\n",
       "      <td>7</td>\n",
       "      <td>0</td>\n",
       "      <td>0</td>\n",
       "      <td>1328</td>\n",
       "      <td>204</td>\n",
       "      <td>230</td>\n",
       "      <td>164</td>\n",
       "      <td>674</td>\n",
       "      <td>0</td>\n",
       "      <td>0</td>\n",
       "      <td>0</td>\n",
       "      <td>1</td>\n",
       "      <td>4</td>\n",
       "    </tr>\n",
       "    <tr>\n",
       "      <th>10389</th>\n",
       "      <td>3225</td>\n",
       "      <td>47</td>\n",
       "      <td>13</td>\n",
       "      <td>408</td>\n",
       "      <td>17</td>\n",
       "      <td>2813</td>\n",
       "      <td>224</td>\n",
       "      <td>212</td>\n",
       "      <td>120</td>\n",
       "      <td>1061</td>\n",
       "      <td>0</td>\n",
       "      <td>0</td>\n",
       "      <td>1</td>\n",
       "      <td>0</td>\n",
       "      <td>22</td>\n",
       "    </tr>\n",
       "    <tr>\n",
       "      <th>10288</th>\n",
       "      <td>3364</td>\n",
       "      <td>358</td>\n",
       "      <td>16</td>\n",
       "      <td>658</td>\n",
       "      <td>172</td>\n",
       "      <td>830</td>\n",
       "      <td>193</td>\n",
       "      <td>208</td>\n",
       "      <td>151</td>\n",
       "      <td>626</td>\n",
       "      <td>0</td>\n",
       "      <td>1</td>\n",
       "      <td>0</td>\n",
       "      <td>0</td>\n",
       "      <td>33</td>\n",
       "    </tr>\n",
       "    <tr>\n",
       "      <th>14979</th>\n",
       "      <td>2650</td>\n",
       "      <td>159</td>\n",
       "      <td>25</td>\n",
       "      <td>272</td>\n",
       "      <td>126</td>\n",
       "      <td>2190</td>\n",
       "      <td>237</td>\n",
       "      <td>235</td>\n",
       "      <td>113</td>\n",
       "      <td>875</td>\n",
       "      <td>0</td>\n",
       "      <td>0</td>\n",
       "      <td>1</td>\n",
       "      <td>0</td>\n",
       "      <td>4</td>\n",
       "    </tr>\n",
       "    <tr>\n",
       "      <th>...</th>\n",
       "      <td>...</td>\n",
       "      <td>...</td>\n",
       "      <td>...</td>\n",
       "      <td>...</td>\n",
       "      <td>...</td>\n",
       "      <td>...</td>\n",
       "      <td>...</td>\n",
       "      <td>...</td>\n",
       "      <td>...</td>\n",
       "      <td>...</td>\n",
       "      <td>...</td>\n",
       "      <td>...</td>\n",
       "      <td>...</td>\n",
       "      <td>...</td>\n",
       "      <td>...</td>\n",
       "    </tr>\n",
       "    <tr>\n",
       "      <th>1012</th>\n",
       "      <td>2943</td>\n",
       "      <td>169</td>\n",
       "      <td>1</td>\n",
       "      <td>60</td>\n",
       "      <td>-2</td>\n",
       "      <td>5460</td>\n",
       "      <td>220</td>\n",
       "      <td>239</td>\n",
       "      <td>156</td>\n",
       "      <td>2147</td>\n",
       "      <td>1</td>\n",
       "      <td>0</td>\n",
       "      <td>0</td>\n",
       "      <td>0</td>\n",
       "      <td>23</td>\n",
       "    </tr>\n",
       "    <tr>\n",
       "      <th>5299</th>\n",
       "      <td>2498</td>\n",
       "      <td>144</td>\n",
       "      <td>17</td>\n",
       "      <td>513</td>\n",
       "      <td>245</td>\n",
       "      <td>927</td>\n",
       "      <td>241</td>\n",
       "      <td>235</td>\n",
       "      <td>117</td>\n",
       "      <td>713</td>\n",
       "      <td>0</td>\n",
       "      <td>0</td>\n",
       "      <td>0</td>\n",
       "      <td>1</td>\n",
       "      <td>2</td>\n",
       "    </tr>\n",
       "    <tr>\n",
       "      <th>12304</th>\n",
       "      <td>2207</td>\n",
       "      <td>331</td>\n",
       "      <td>22</td>\n",
       "      <td>277</td>\n",
       "      <td>167</td>\n",
       "      <td>319</td>\n",
       "      <td>164</td>\n",
       "      <td>207</td>\n",
       "      <td>180</td>\n",
       "      <td>811</td>\n",
       "      <td>0</td>\n",
       "      <td>0</td>\n",
       "      <td>0</td>\n",
       "      <td>1</td>\n",
       "      <td>10</td>\n",
       "    </tr>\n",
       "    <tr>\n",
       "      <th>312</th>\n",
       "      <td>2861</td>\n",
       "      <td>0</td>\n",
       "      <td>6</td>\n",
       "      <td>134</td>\n",
       "      <td>10</td>\n",
       "      <td>2980</td>\n",
       "      <td>211</td>\n",
       "      <td>228</td>\n",
       "      <td>155</td>\n",
       "      <td>3972</td>\n",
       "      <td>1</td>\n",
       "      <td>0</td>\n",
       "      <td>0</td>\n",
       "      <td>0</td>\n",
       "      <td>30</td>\n",
       "    </tr>\n",
       "    <tr>\n",
       "      <th>13481</th>\n",
       "      <td>2486</td>\n",
       "      <td>40</td>\n",
       "      <td>22</td>\n",
       "      <td>30</td>\n",
       "      <td>9</td>\n",
       "      <td>942</td>\n",
       "      <td>216</td>\n",
       "      <td>185</td>\n",
       "      <td>95</td>\n",
       "      <td>949</td>\n",
       "      <td>0</td>\n",
       "      <td>0</td>\n",
       "      <td>0</td>\n",
       "      <td>1</td>\n",
       "      <td>10</td>\n",
       "    </tr>\n",
       "  </tbody>\n",
       "</table>\n",
       "<p>11990 rows × 15 columns</p>\n",
       "</div>"
      ],
      "text/plain": [
       "       Elevation  Aspect  Slope  Horizontal_Distance_To_Hydrology  \\\n",
       "1053        2861     159      7                               124   \n",
       "12702       2133     339      7                                 0   \n",
       "10389       3225      47     13                               408   \n",
       "10288       3364     358     16                               658   \n",
       "14979       2650     159     25                               272   \n",
       "...          ...     ...    ...                               ...   \n",
       "1012        2943     169      1                                60   \n",
       "5299        2498     144     17                               513   \n",
       "12304       2207     331     22                               277   \n",
       "312         2861       0      6                               134   \n",
       "13481       2486      40     22                                30   \n",
       "\n",
       "       Vertical_Distance_To_Hydrology  Horizontal_Distance_To_Roadways  \\\n",
       "1053                               11                             2967   \n",
       "12702                               0                             1328   \n",
       "10389                              17                             2813   \n",
       "10288                             172                              830   \n",
       "14979                             126                             2190   \n",
       "...                               ...                              ...   \n",
       "1012                               -2                             5460   \n",
       "5299                              245                              927   \n",
       "12304                             167                              319   \n",
       "312                                10                             2980   \n",
       "13481                               9                              942   \n",
       "\n",
       "       Hillshade_9am  Hillshade_Noon  Hillshade_3pm  \\\n",
       "1053             228             242            146   \n",
       "12702            204             230            164   \n",
       "10389            224             212            120   \n",
       "10288            193             208            151   \n",
       "14979            237             235            113   \n",
       "...              ...             ...            ...   \n",
       "1012             220             239            156   \n",
       "5299             241             235            117   \n",
       "12304            164             207            180   \n",
       "312              211             228            155   \n",
       "13481            216             185             95   \n",
       "\n",
       "       Horizontal_Distance_To_Fire_Points  Wilderness_Area1  Wilderness_Area2  \\\n",
       "1053                                 2588                 1                 0   \n",
       "12702                                 674                 0                 0   \n",
       "10389                                1061                 0                 0   \n",
       "10288                                 626                 0                 1   \n",
       "14979                                 875                 0                 0   \n",
       "...                                   ...               ...               ...   \n",
       "1012                                 2147                 1                 0   \n",
       "5299                                  713                 0                 0   \n",
       "12304                                 811                 0                 0   \n",
       "312                                  3972                 1                 0   \n",
       "13481                                 949                 0                 0   \n",
       "\n",
       "       Wilderness_Area3  Wilderness_Area4  Soil_Type  \n",
       "1053                  0                 0         29  \n",
       "12702                 0                 1          4  \n",
       "10389                 1                 0         22  \n",
       "10288                 0                 0         33  \n",
       "14979                 1                 0          4  \n",
       "...                 ...               ...        ...  \n",
       "1012                  0                 0         23  \n",
       "5299                  0                 1          2  \n",
       "12304                 0                 1         10  \n",
       "312                   0                 0         30  \n",
       "13481                 0                 1         10  \n",
       "\n",
       "[11990 rows x 15 columns]"
      ]
     },
     "execution_count": 32,
     "metadata": {},
     "output_type": "execute_result"
    }
   ],
   "source": [
    "X_train"
   ]
  },
  {
   "cell_type": "code",
   "execution_count": 44,
   "metadata": {},
   "outputs": [
    {
     "data": {
      "text/plain": [
       "Index(['Elevation', 'Aspect', 'Slope', 'Horizontal_Distance_To_Hydrology',\n",
       "       'Vertical_Distance_To_Hydrology', 'Horizontal_Distance_To_Roadways',\n",
       "       'Hillshade_9am', 'Hillshade_Noon', 'Hillshade_3pm',\n",
       "       'Horizontal_Distance_To_Fire_Points', 'Wilderness_Area1',\n",
       "       'Wilderness_Area2', 'Wilderness_Area3', 'Wilderness_Area4',\n",
       "       'Soil_Type'],\n",
       "      dtype='object')"
      ]
     },
     "execution_count": 44,
     "metadata": {},
     "output_type": "execute_result"
    }
   ],
   "source": [
    "X_train.columns"
   ]
  },
  {
   "cell_type": "code",
   "execution_count": 45,
   "metadata": {},
   "outputs": [],
   "source": [
    "def predict(Elev,Aspe,Slope,H_Hydrology,V_Hydrology,Roadways,hill9,hillnoon,hill3,firept,area,soil):\n",
    "    area_index = np.where(X.columns==area)[0][0]\n",
    "    \n",
    "    x=np.zeros(len(X.columns))\n",
    "    x[0] = Elev\n",
    "    x[1] = Aspe\n",
    "    x[2] = Slope\n",
    "    x[3]= H_Hydrology\n",
    "    x[4] = V_Hydrology\n",
    "    x[5] = Roadways\n",
    "    x[6] = hill9\n",
    "    x[7] = hillnoon\n",
    "    x[8] = hill3\n",
    "    x[9] = firept\n",
    "    x[10] = soil\n",
    "    \n",
    "    if area_index >= 0:\n",
    "        x[area_index]= 1\n",
    "    \n",
    "    scaled = scaler.transform([x])\n",
    "        \n",
    "    return lgbm_classifier.predict(scaled)[0].round(2)\n",
    "   "
   ]
  },
  {
   "cell_type": "code",
   "execution_count": 54,
   "metadata": {},
   "outputs": [
    {
     "name": "stdout",
     "output_type": "stream",
     "text": [
      "Cover By Ponderosa Pine Trees\n"
     ]
    }
   ],
   "source": [
    "result = predict(2861,159,20,124,11,2967,228,242,146,2588,'Wilderness_Area3',40)\n",
    "if result == 1 :\n",
    "    print('Cover By Spruce/Fir Trees')\n",
    "elif result == 2:\n",
    "    print('Cover By Lodgepole Pine Trees')\n",
    "elif result == 3:\n",
    "    print('Cover By Ponderosa Pine Trees')\n",
    "elif result == 4:\n",
    "    print('Cover By Cottonwood/Willow Trees')\n",
    "elif result ==5:\n",
    "    print('Cover By Aspen Trees')\n",
    "elif result==6:\n",
    "    print('Cover By Douglas-fir Trees')\n",
    "elif result == 8:\n",
    "    print('Cover By KrummholzTrees')"
   ]
  },
  {
   "cell_type": "code",
   "execution_count": 48,
   "metadata": {},
   "outputs": [
    {
     "data": {
      "text/plain": [
       "array([3], dtype=int64)"
      ]
     },
     "execution_count": 48,
     "metadata": {},
     "output_type": "execute_result"
    }
   ],
   "source": [
    "a = [2861,159,7,124,11,2967,228,242,146,2588,1,0,0,0,29]\n",
    "# transform validation set\n",
    "scaled = scaler.transform([a])\n",
    "pred = lgbm_classifier.predict(scaled)\n",
    "pred"
   ]
  },
  {
   "cell_type": "code",
   "execution_count": null,
   "metadata": {},
   "outputs": [],
   "source": []
  }
 ],
 "metadata": {
  "kernelspec": {
   "display_name": "Python 3",
   "language": "python",
   "name": "python3"
  },
  "language_info": {
   "codemirror_mode": {
    "name": "ipython",
    "version": 3
   },
   "file_extension": ".py",
   "mimetype": "text/x-python",
   "name": "python",
   "nbconvert_exporter": "python",
   "pygments_lexer": "ipython3",
   "version": "3.7.6"
  }
 },
 "nbformat": 4,
 "nbformat_minor": 4
}
